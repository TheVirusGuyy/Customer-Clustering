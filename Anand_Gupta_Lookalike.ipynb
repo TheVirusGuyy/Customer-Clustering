{
 "cells": [
  {
   "cell_type": "markdown",
   "id": "70d28299",
   "metadata": {},
   "source": [
    "# Task 2:Lookalike model Implementation"
   ]
  },
  {
   "cell_type": "code",
   "execution_count": 1,
   "id": "08422030",
   "metadata": {},
   "outputs": [],
   "source": [
    "import pandas as pd\n",
    "from sklearn.metrics.pairwise import cosine_similarity\n",
    "from sklearn.preprocessing import StandardScaler"
   ]
  },
  {
   "cell_type": "code",
   "execution_count": 3,
   "id": "0a413eff",
   "metadata": {},
   "outputs": [],
   "source": [
    "#datasets\n",
    "customers = pd.read_csv(\"./datasets/Customers.csv\")\n",
    "products = pd.read_csv(\"./datasets/Products.csv\")\n",
    "transactions = pd.read_csv(\"./datasets/Transactions.csv\")"
   ]
  },
  {
   "cell_type": "markdown",
   "id": "d3af2d81",
   "metadata": {},
   "source": [
    "Merging datasets to create a comprehensive dataset"
   ]
  },
  {
   "cell_type": "code",
   "execution_count": 4,
   "id": "2d94b9f6",
   "metadata": {},
   "outputs": [],
   "source": [
    "customer_transactions = pd.merge(transactions, customers, on='CustomerID')\n",
    "data = pd.merge(customer_transactions, products, on='ProductID')"
   ]
  },
  {
   "cell_type": "markdown",
   "id": "98d6fd86",
   "metadata": {},
   "source": [
    "Feature engineering: Aggregating transaction history per customer"
   ]
  },
  {
   "cell_type": "code",
   "execution_count": 6,
   "id": "e99f6d60",
   "metadata": {},
   "outputs": [],
   "source": [
    "customer_profiles = data.groupby('CustomerID').agg({\n",
    "    'Region': lambda x: x.mode()[0],  # Most common region\n",
    "    'Category': lambda x: x.mode()[0],  # Most common product category\n",
    "    'TotalValue': 'mean',  # Average transaction value\n",
    "    'Quantity': 'sum'      # Total quantity purchased\n",
    "}).reset_index()"
   ]
  },
  {
   "cell_type": "markdown",
   "id": "f6d16774",
   "metadata": {},
   "source": [
    "Encoding categorical variables"
   ]
  },
  {
   "cell_type": "code",
   "execution_count": 8,
   "id": "fd0bcce9",
   "metadata": {},
   "outputs": [],
   "source": [
    "customer_profiles_encoded = pd.get_dummies(customer_profiles, columns=['Region', 'Category'])\n"
   ]
  },
  {
   "cell_type": "markdown",
   "id": "c04c97ac",
   "metadata": {},
   "source": [
    "Normalizing numerical features"
   ]
  },
  {
   "cell_type": "code",
   "execution_count": 9,
   "id": "6bdde06d",
   "metadata": {},
   "outputs": [],
   "source": [
    "scaler = StandardScaler()\n",
    "numerical_features = ['TotalValue', 'Quantity']\n",
    "customer_profiles_encoded[numerical_features] = scaler.fit_transform(customer_profiles_encoded[numerical_features])"
   ]
  },
  {
   "cell_type": "code",
   "execution_count": 10,
   "id": "cfb2ec3d",
   "metadata": {},
   "outputs": [],
   "source": [
    "similarity_matrix = cosine_similarity(customer_profiles_encoded.iloc[:, 1:])"
   ]
  },
  {
   "cell_type": "markdown",
   "id": "36ea8df0",
   "metadata": {},
   "source": [
    "### Function to get top 3 similar customers"
   ]
  },
  {
   "cell_type": "code",
   "execution_count": 11,
   "id": "a1b66a7c",
   "metadata": {},
   "outputs": [],
   "source": [
    "def get_similar_customers(customer_id, similarity_matrix, customer_ids):\n",
    "    index = customer_ids.index(customer_id)\n",
    "    similarity_scores = list(enumerate(similarity_matrix[index]))\n",
    "    similarity_scores = sorted(similarity_scores, key=lambda x: x[1], reverse=True)\n",
    "    top_3 = similarity_scores[1:4]  # Exclude the customer themselves (index 0)\n",
    "    return [(customer_ids[i[0]], i[1]) for i in top_3]"
   ]
  },
  {
   "cell_type": "markdown",
   "id": "341fd46e",
   "metadata": {},
   "source": [
    "Getting top 3 lookalikes for customers C0001 to C0020"
   ]
  },
  {
   "cell_type": "code",
   "execution_count": 12,
   "id": "da3c462a",
   "metadata": {},
   "outputs": [],
   "source": [
    "customer_ids = customer_profiles['CustomerID'].tolist()\n",
    "lookalike_results = {}\n",
    "for customer_id in customer_ids[:20]:\n",
    "    lookalike_results[customer_id] = get_similar_customers(customer_id, similarity_matrix, customer_ids)"
   ]
  },
  {
   "cell_type": "markdown",
   "id": "ec7cb91c",
   "metadata": {},
   "source": [
    "### Creating Lookalike.csv"
   ]
  },
  {
   "cell_type": "code",
   "execution_count": 15,
   "id": "3b061226",
   "metadata": {},
   "outputs": [
    {
     "name": "stdout",
     "output_type": "stream",
     "text": [
      "Lookalike model completed successfully. Results saved to Anand_Gupta_Lookalike.csv.\n"
     ]
    }
   ],
   "source": [
    "lookalike_df = pd.DataFrame({\n",
    "    'CustomerID': list(lookalike_results.keys()),\n",
    "    'Lookalikes': [', '.join([f\"{cust_id} (Score: {score:.2f})\" for cust_id, score in lookalike_results[customer_id]]) for customer_id in lookalike_results.keys()]\n",
    "})\n",
    "\n",
    "lookalike_df.to_csv(\"Anand_Gupta_Lookalike.csv\", index=False)\n",
    "print(\"Lookalike model completed successfully. Results saved to Anand_Gupta_Lookalike.csv.\")"
   ]
  },
  {
   "cell_type": "code",
   "execution_count": null,
   "id": "96c6b209",
   "metadata": {},
   "outputs": [],
   "source": []
  }
 ],
 "metadata": {
  "kernelspec": {
   "display_name": "Python 3 (ipykernel)",
   "language": "python",
   "name": "python3"
  },
  "language_info": {
   "codemirror_mode": {
    "name": "ipython",
    "version": 3
   },
   "file_extension": ".py",
   "mimetype": "text/x-python",
   "name": "python",
   "nbconvert_exporter": "python",
   "pygments_lexer": "ipython3",
   "version": "3.11.7"
  }
 },
 "nbformat": 4,
 "nbformat_minor": 5
}
